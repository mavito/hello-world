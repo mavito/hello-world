{
  "nbformat": 4,
  "nbformat_minor": 0,
  "metadata": {
    "colab": {
      "name": "EightGon.ipynb",
      "version": "0.3.2",
      "provenance": []
    },
    "kernelspec": {
      "name": "python3",
      "display_name": "Python 3"
    }
  },
  "cells": [
    {
      "cell_type": "code",
      "metadata": {
        "id": "_Iorx9M24Ism",
        "colab_type": "code",
        "colab": {}
      },
      "source": [
        "import numpy as np\n",
        "import pandas as pd\n"
      ],
      "execution_count": 0,
      "outputs": []
    },
    {
      "cell_type": "code",
      "metadata": {
        "id": "qTE5NfxHpEsE",
        "colab_type": "code",
        "colab": {}
      },
      "source": [
        "statin=np.array([['*',1,3],\n",
        "                [4,2,5],\n",
        "                [7,8,6]])\n",
        "\n",
        "\n",
        "statfin=np.array([[1,3,5],\n",
        "                 [7,4,2],\n",
        "                 ['*',8,6]])"
      ],
      "execution_count": 0,
      "outputs": []
    },
    {
      "cell_type": "markdown",
      "metadata": {
        "id": "GLdf6a07RxsC",
        "colab_type": "text"
      },
      "source": [
        "SWAP FUNCTION BASIC"
      ]
    },
    {
      "cell_type": "code",
      "metadata": {
        "colab_type": "code",
        "id": "IG1K3ltGNUAN",
        "colab": {}
      },
      "source": [
        "def swap(ay,x1,y1,x2,y2):\n",
        "  ay[x1][y1],ay[x2][y2]=ay[x2][y2],ay[x1][y1]"
      ],
      "execution_count": 0,
      "outputs": []
    },
    {
      "cell_type": "markdown",
      "metadata": {
        "id": "vDMVogH7QJaB",
        "colab_type": "text"
      },
      "source": [
        "CODE TO COMPARE CURRENT ITERATION AND FINAL ANSWER PUZZLE ####### HEURISTIC FUNCTION returns h(x)\n",
        "\n",
        "\n"
      ]
    },
    {
      "cell_type": "code",
      "metadata": {
        "id": "ceBwktcWmOSm",
        "colab_type": "code",
        "colab": {}
      },
      "source": [
        "def heur(ay):\n",
        "  counter=-1\n",
        "  for i in range(0,3):\n",
        "    for j in range(0,3):\n",
        "      if ay[i][j]==statfin[i][j]:\n",
        "        counter+=0\n",
        "      else:\n",
        "        counter+=1\n",
        "        \n",
        "  return counter\n",
        "  "
      ],
      "execution_count": 0,
      "outputs": []
    },
    {
      "cell_type": "markdown",
      "metadata": {
        "id": "lDc9D_E0W2df",
        "colab_type": "text"
      },
      "source": [
        "FUNCTIONS FOR MOVEMENTS"
      ]
    },
    {
      "cell_type": "code",
      "metadata": {
        "id": "Bc7pTg3g5pZ3",
        "colab_type": "code",
        "colab": {}
      },
      "source": [
        "def leftm(ay):\n",
        "  temp=ay.copy()\n",
        "  i, j = get_pos(ay,'*')\n",
        "  if j==0:\n",
        "    return(temp)\n",
        "  else:\n",
        "    swap(temp,i,j-1,i,j)\n",
        "    return(temp)"
      ],
      "execution_count": 0,
      "outputs": []
    },
    {
      "cell_type": "code",
      "metadata": {
        "id": "d8w7hvk956Ub",
        "colab_type": "code",
        "colab": {}
      },
      "source": [
        "def rightm(ay):\n",
        "  temp=ay.copy()\n",
        "  i, j = get_pos(ay,'*')\n",
        "  if j==2:\n",
        "    return(temp)\n",
        "  else:\n",
        "    swap(temp,i,j+1,i,j)\n",
        "    return(temp)"
      ],
      "execution_count": 0,
      "outputs": []
    },
    {
      "cell_type": "code",
      "metadata": {
        "id": "pFEK7387WBgn",
        "colab_type": "code",
        "colab": {}
      },
      "source": [
        "def upm(ay):\n",
        "  temp=ay.copy()\n",
        "  i, j = get_pos(ay,'*')\n",
        "  if i==0:\n",
        "    return(temp)\n",
        "  else:\n",
        "    swap(temp,i-1,j,i,j)\n",
        "    return(temp)\n",
        "    \n"
      ],
      "execution_count": 0,
      "outputs": []
    },
    {
      "cell_type": "code",
      "metadata": {
        "id": "t18GzDKJWCNz",
        "colab_type": "code",
        "colab": {}
      },
      "source": [
        "def downm(ay):\n",
        "  temp=ay.copy()\n",
        "  i, j = get_pos(ay,'*')\n",
        "  if i==2:\n",
        "    return(temp)\n",
        "  else:\n",
        "    swap(temp,i+1,j,i,j)\n",
        "    return(temp)\n",
        "    "
      ],
      "execution_count": 0,
      "outputs": []
    },
    {
      "cell_type": "code",
      "metadata": {
        "id": "44ygGHaVW0-e",
        "colab_type": "code",
        "colab": {}
      },
      "source": [
        "def get_pos(ay,element):\n",
        "  for i in range(0,3):\n",
        "    for j in range(0,3):\n",
        "      if ay[i][j]==element:\n",
        "        return i,j"
      ],
      "execution_count": 0,
      "outputs": []
    },
    {
      "cell_type": "markdown",
      "metadata": {
        "id": "9jSIRKAKQ3dD",
        "colab_type": "text"
      },
      "source": [
        "RETURNS MINIMUM HEURISTIC VALUE AFTER ALL MOVES MAIN FUNCTION"
      ]
    },
    {
      "cell_type": "code",
      "metadata": {
        "id": "RXMkvJejDio5",
        "colab_type": "code",
        "colab": {}
      },
      "source": [
        "def moves(ay):\n",
        "  minimest=min(heur(upm(ay)),heur(leftm(ay)),heur(rightm(ay)),heur(downm(ay)))\n",
        "  \n",
        "  if (ay==statfin).all():\n",
        "    print(\"Final Iteration:\\n\",ay)\n",
        "  else:\n",
        "    if heur(upm(ay)) == minimest:\n",
        "      newdf=upm(ay)\n",
        "      print('Iteration:\\n',ay,'\\n')\n",
        "      moves(newdf)\n",
        "    elif heur(leftm(ay)) == minimest:\n",
        "      newdf=leftm(ay)\n",
        "      print('Iteration:\\n',ay,'\\n')\n",
        "      moves(newdf)\n",
        "    elif heur(downm(ay)) == minimest:\n",
        "      newdf=downm(ay)\n",
        "      print('Iteration:\\n',ay,'\\n')\n",
        "      moves(newdf)\n",
        "    elif heur(rightm(ay)) == minimest:\n",
        "      newdf=rightm(ay)\n",
        "      print('Iteration:\\n',ay,'\\n')\n",
        "      moves(newdf)\n",
        "  \n",
        "  \n",
        "  \n",
        "\n",
        "      "
      ],
      "execution_count": 0,
      "outputs": []
    },
    {
      "cell_type": "code",
      "metadata": {
        "id": "Ewska12uQsYL",
        "colab_type": "code",
        "outputId": "c36eee21-d535-4b1e-e272-d503fd18c966",
        "colab": {
          "base_uri": "https://localhost:8080/",
          "height": 621
        }
      },
      "source": [
        "moves(statin)\n",
        "  "
      ],
      "execution_count": 287,
      "outputs": [
        {
          "output_type": "stream",
          "text": [
            "Iteration:\n",
            " [['*' '1' '3']\n",
            " ['4' '2' '5']\n",
            " ['7' '8' '6']] \n",
            "\n",
            "Iteration:\n",
            " [['1' '*' '3']\n",
            " ['4' '2' '5']\n",
            " ['7' '8' '6']] \n",
            "\n",
            "Iteration:\n",
            " [['1' '3' '*']\n",
            " ['4' '2' '5']\n",
            " ['7' '8' '6']] \n",
            "\n",
            "Iteration:\n",
            " [['1' '3' '5']\n",
            " ['4' '2' '*']\n",
            " ['7' '8' '6']] \n",
            "\n",
            "Iteration:\n",
            " [['1' '3' '5']\n",
            " ['4' '*' '2']\n",
            " ['7' '8' '6']] \n",
            "\n",
            "Iteration:\n",
            " [['1' '3' '5']\n",
            " ['*' '4' '2']\n",
            " ['7' '8' '6']] \n",
            "\n",
            "Final Iteration:\n",
            " [['1' '3' '5']\n",
            " ['7' '4' '2']\n",
            " ['*' '8' '6']]\n"
          ],
          "name": "stdout"
        }
      ]
    }
  ]
}