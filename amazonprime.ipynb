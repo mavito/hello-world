{
  "nbformat": 4,
  "nbformat_minor": 0,
  "metadata": {
    "colab": {
      "name": "amazonprime.ipynb",
      "provenance": [],
      "include_colab_link": true
    },
    "kernelspec": {
      "name": "python3",
      "display_name": "Python 3"
    }
  },
  "cells": [
    {
      "cell_type": "markdown",
      "metadata": {
        "id": "view-in-github",
        "colab_type": "text"
      },
      "source": [
        "<a href=\"https://colab.research.google.com/github/mavito/hello-world/blob/master/amazonprime.ipynb\" target=\"_parent\"><img src=\"https://colab.research.google.com/assets/colab-badge.svg\" alt=\"Open In Colab\"/></a>"
      ]
    },
    {
      "cell_type": "code",
      "metadata": {
        "id": "INybzj4iZzMd",
        "colab_type": "code",
        "colab": {}
      },
      "source": [
        "import pandas as pd\n",
        "import json\n",
        "from collections import Counter\n",
        "import string\n",
        "import re"
      ],
      "execution_count": 0,
      "outputs": []
    },
    {
      "cell_type": "markdown",
      "metadata": {
        "id": "qPDeZtvkV6c-",
        "colab_type": "text"
      },
      "source": [
        "LINK TO AMAZON REVIEWS FOR OFFICE PRODUCTS"
      ]
    },
    {
      "cell_type": "code",
      "metadata": {
        "id": "NoQwZ2ZJSvlA",
        "colab_type": "code",
        "colab": {}
      },
      "source": [
        "url = \"http://snap.stanford.edu/data/amazon/productGraph/categoryFiles/reviews_Office_Products_5.json.gz\" "
      ],
      "execution_count": 0,
      "outputs": []
    },
    {
      "cell_type": "code",
      "metadata": {
        "id": "7J4GTCXqS7t9",
        "colab_type": "code",
        "colab": {}
      },
      "source": [
        "r = pd.read_json(url,lines=True)"
      ],
      "execution_count": 0,
      "outputs": []
    },
    {
      "cell_type": "code",
      "metadata": {
        "id": "5kFO64H3bkdE",
        "colab_type": "code",
        "colab": {}
      },
      "source": [
        "#function which splits the words in a text paragraph and returns counter of occurrence of each individual word as dictionary\n",
        "def custom_func(text):\n",
        "  return Counter(text.split())"
      ],
      "execution_count": 0,
      "outputs": []
    },
    {
      "cell_type": "code",
      "metadata": {
        "id": "2is97QUnTmxN",
        "colab_type": "code",
        "colab": {}
      },
      "source": [
        "df1 = r.copy()"
      ],
      "execution_count": 0,
      "outputs": []
    },
    {
      "cell_type": "code",
      "metadata": {
        "id": "dJZQQH2XljB0",
        "colab_type": "code",
        "colab": {}
      },
      "source": [
        "df1['reviewCounter'] = df1['reviewText'].apply(lambda x:custom_func(x))"
      ],
      "execution_count": 0,
      "outputs": []
    },
    {
      "cell_type": "code",
      "metadata": {
        "id": "sL5LVVUHO9dp",
        "colab_type": "code",
        "colab": {}
      },
      "source": [
        "df1['reviewCounter'][1]"
      ],
      "execution_count": 0,
      "outputs": []
    },
    {
      "cell_type": "code",
      "metadata": {
        "id": "fEz3dCxRjKuU",
        "colab_type": "code",
        "colab": {}
      },
      "source": [
        "vowel = ['a','e','i','o','u']"
      ],
      "execution_count": 0,
      "outputs": []
    },
    {
      "cell_type": "code",
      "metadata": {
        "id": "AeniXgB2jm_j",
        "colab_type": "code",
        "colab": {}
      },
      "source": [
        "def splitr(m):\n",
        "  return list(m)"
      ],
      "execution_count": 0,
      "outputs": []
    },
    {
      "cell_type": "code",
      "metadata": {
        "id": "h5qHc30AkcHB",
        "colab_type": "code",
        "colab": {}
      },
      "source": [
        "def func(text):\n",
        "  countr = {\"vowel\":0,\"consonant\":0,\"totcount\":0}\n",
        "  for word in text:\n",
        "    wordrs = splitr(word)\n",
        "    for wordr in wordrs:\n",
        "      if wordr in vowel:\n",
        "        countr[\"vowel\"]+=1\n",
        "      else:\n",
        "        countr[\"consonant\"]+=1\n",
        "      countr['totcount']+=1\n",
        "  return countr\n"
      ],
      "execution_count": 0,
      "outputs": []
    },
    {
      "cell_type": "code",
      "metadata": {
        "id": "X-A43E9bkcRp",
        "colab_type": "code",
        "colab": {}
      },
      "source": [
        "df1['SingoCounter'] = df1['reviewText'].apply(lambda x:func(x))"
      ],
      "execution_count": 0,
      "outputs": []
    },
    {
      "cell_type": "code",
      "metadata": {
        "id": "MR1Q2LEumd7N",
        "colab_type": "code",
        "colab": {
          "base_uri": "https://localhost:8080/",
          "height": 34
        },
        "outputId": "68310021-c15a-417a-8c23-f1bb48162f1f"
      },
      "source": [
        "df1['SingoCounter'][2]"
      ],
      "execution_count": 149,
      "outputs": [
        {
          "output_type": "execute_result",
          "data": {
            "text/plain": [
              "{'consonant': 363, 'totcount': 495, 'vowel': 132}"
            ]
          },
          "metadata": {
            "tags": []
          },
          "execution_count": 149
        }
      ]
    },
    {
      "cell_type": "code",
      "metadata": {
        "id": "sL0z62-Pmjrj",
        "colab_type": "code",
        "colab": {
          "base_uri": "https://localhost:8080/",
          "height": 34
        },
        "outputId": "97f8c9cf-d62e-4655-f822-7c0684aef5a4"
      },
      "source": [
        "(len(df1['reviewText'][2])) == df1['SingoCounter'][2]['totcount']"
      ],
      "execution_count": 150,
      "outputs": [
        {
          "output_type": "execute_result",
          "data": {
            "text/plain": [
              "True"
            ]
          },
          "metadata": {
            "tags": []
          },
          "execution_count": 150
        }
      ]
    },
    {
      "cell_type": "code",
      "metadata": {
        "id": "hya54tBDuXVx",
        "colab_type": "code",
        "colab": {
          "base_uri": "https://localhost:8080/",
          "height": 34
        },
        "outputId": "3ebac7de-9be2-405b-b660-0ecc5ad9d5bd"
      },
      "source": [
        "re.findall(r\"^[i,I]\",df1['reviewText'][0])"
      ],
      "execution_count": 91,
      "outputs": [
        {
          "output_type": "execute_result",
          "data": {
            "text/plain": [
              "['I']"
            ]
          },
          "metadata": {
            "tags": []
          },
          "execution_count": 91
        }
      ]
    },
    {
      "cell_type": "code",
      "metadata": {
        "id": "bYXh-IZKxQ6O",
        "colab_type": "code",
        "colab": {}
      },
      "source": [
        "def begend(text):\n",
        "  countbe = {'begB':0,'endG':0}\n",
        "  for word in text:\n",
        "    if (re.findall(r\"^b\",word,re.IGNORECASE)):\n",
        "      countbe['begB']+=1\n",
        "    elif(re.findall(r\"g$\",word,re.IGNORECASE)):\n",
        "      countbe['endG']+=1\n",
        "  return countbe"
      ],
      "execution_count": 0,
      "outputs": []
    },
    {
      "cell_type": "code",
      "metadata": {
        "id": "_gwP8JL8x7S4",
        "colab_type": "code",
        "colab": {}
      },
      "source": [
        "df1['BegEnd'] = df1['reviewText'].apply(lambda x:begend(x))"
      ],
      "execution_count": 0,
      "outputs": []
    },
    {
      "cell_type": "code",
      "metadata": {
        "id": "TKZznttzzGWs",
        "colab_type": "code",
        "colab": {
          "base_uri": "https://localhost:8080/",
          "height": 34
        },
        "outputId": "f2196206-7693-4873-8cc0-00a651e153d6"
      },
      "source": [
        "df1['BegEnd'][3]"
      ],
      "execution_count": 153,
      "outputs": [
        {
          "output_type": "execute_result",
          "data": {
            "text/plain": [
              "{'begB': 35, 'endG': 53}"
            ]
          },
          "metadata": {
            "tags": []
          },
          "execution_count": 153
        }
      ]
    },
    {
      "cell_type": "code",
      "metadata": {
        "id": "jk_GLcbv1Y0o",
        "colab_type": "code",
        "colab": {
          "base_uri": "https://localhost:8080/",
          "height": 906
        },
        "outputId": "a01490a8-82ff-48f0-d49f-5ffe2b893e2a"
      },
      "source": [
        "df1"
      ],
      "execution_count": 154,
      "outputs": [
        {
          "output_type": "execute_result",
          "data": {
            "text/html": [
              "<div>\n",
              "<style scoped>\n",
              "    .dataframe tbody tr th:only-of-type {\n",
              "        vertical-align: middle;\n",
              "    }\n",
              "\n",
              "    .dataframe tbody tr th {\n",
              "        vertical-align: top;\n",
              "    }\n",
              "\n",
              "    .dataframe thead th {\n",
              "        text-align: right;\n",
              "    }\n",
              "</style>\n",
              "<table border=\"1\" class=\"dataframe\">\n",
              "  <thead>\n",
              "    <tr style=\"text-align: right;\">\n",
              "      <th></th>\n",
              "      <th>reviewerID</th>\n",
              "      <th>asin</th>\n",
              "      <th>reviewerName</th>\n",
              "      <th>helpful</th>\n",
              "      <th>reviewText</th>\n",
              "      <th>overall</th>\n",
              "      <th>summary</th>\n",
              "      <th>unixReviewTime</th>\n",
              "      <th>reviewTime</th>\n",
              "      <th>reviewCounter</th>\n",
              "      <th>SingoCounter</th>\n",
              "      <th>BegEnd</th>\n",
              "    </tr>\n",
              "  </thead>\n",
              "  <tbody>\n",
              "    <tr>\n",
              "      <th>0</th>\n",
              "      <td>A32T2H8150OJLU</td>\n",
              "      <td>B00000JBLH</td>\n",
              "      <td>ARH</td>\n",
              "      <td>[3, 4]</td>\n",
              "      <td>I bought my first HP12C in about 1984 or so, a...</td>\n",
              "      <td>5</td>\n",
              "      <td>A solid performer, and long time friend</td>\n",
              "      <td>1094169600</td>\n",
              "      <td>09 3, 2004</td>\n",
              "      <td>{'I': 7, 'bought': 1, 'my': 4, 'first': 1, 'HP...</td>\n",
              "      <td>{'vowel': 267, 'consonant': 705, 'totcount': 972}</td>\n",
              "      <td>{'begB': 17, 'endG': 14}</td>\n",
              "    </tr>\n",
              "    <tr>\n",
              "      <th>1</th>\n",
              "      <td>A3MAFS04ZABRGO</td>\n",
              "      <td>B00000JBLH</td>\n",
              "      <td>Let it Be \"Alan\"</td>\n",
              "      <td>[7, 9]</td>\n",
              "      <td>WHY THIS BELATED REVIEW? I feel very obliged t...</td>\n",
              "      <td>5</td>\n",
              "      <td>Price of GOLD is up, so don't bury the golden ...</td>\n",
              "      <td>1197676800</td>\n",
              "      <td>12 15, 2007</td>\n",
              "      <td>{'WHY': 1, 'THIS': 2, 'BELATED': 1, 'REVIEW?':...</td>\n",
              "      <td>{'vowel': 1318, 'consonant': 4037, 'totcount':...</td>\n",
              "      <td>{'begB': 66, 'endG': 74}</td>\n",
              "    </tr>\n",
              "    <tr>\n",
              "      <th>2</th>\n",
              "      <td>A1F1A0QQP2XVH5</td>\n",
              "      <td>B00000JBLH</td>\n",
              "      <td>Mark B</td>\n",
              "      <td>[3, 3]</td>\n",
              "      <td>I have an HP 48GX that has been kicking for mo...</td>\n",
              "      <td>2</td>\n",
              "      <td>Good functionality, but not durable like old HPs</td>\n",
              "      <td>1293840000</td>\n",
              "      <td>01 1, 2011</td>\n",
              "      <td>{'I': 2, 'have': 2, 'an': 2, 'HP': 3, '48GX': ...</td>\n",
              "      <td>{'vowel': 132, 'consonant': 363, 'totcount': 495}</td>\n",
              "      <td>{'begB': 7, 'endG': 9}</td>\n",
              "    </tr>\n",
              "    <tr>\n",
              "      <th>3</th>\n",
              "      <td>A49R5DBXXQDE5</td>\n",
              "      <td>B00000JBLH</td>\n",
              "      <td>R. D Johnson</td>\n",
              "      <td>[7, 8]</td>\n",
              "      <td>I've started doing more finance stuff recently...</td>\n",
              "      <td>5</td>\n",
              "      <td>One of the last of an almost extinct species</td>\n",
              "      <td>1145404800</td>\n",
              "      <td>04 19, 2006</td>\n",
              "      <td>{'I've': 4, 'started': 1, 'doing': 2, 'more': ...</td>\n",
              "      <td>{'vowel': 1049, 'consonant': 2599, 'totcount':...</td>\n",
              "      <td>{'begB': 35, 'endG': 53}</td>\n",
              "    </tr>\n",
              "    <tr>\n",
              "      <th>4</th>\n",
              "      <td>A2XRMQA6PJ5ZJ8</td>\n",
              "      <td>B00000JBLH</td>\n",
              "      <td>Roger J. Buffington</td>\n",
              "      <td>[0, 0]</td>\n",
              "      <td>For simple calculations and discounted cash fl...</td>\n",
              "      <td>5</td>\n",
              "      <td>Still the best</td>\n",
              "      <td>1375574400</td>\n",
              "      <td>08 4, 2013</td>\n",
              "      <td>{'For': 1, 'simple': 1, 'calculations': 2, 'an...</td>\n",
              "      <td>{'vowel': 200, 'consonant': 504, 'totcount': 704}</td>\n",
              "      <td>{'begB': 7, 'endG': 5}</td>\n",
              "    </tr>\n",
              "    <tr>\n",
              "      <th>...</th>\n",
              "      <td>...</td>\n",
              "      <td>...</td>\n",
              "      <td>...</td>\n",
              "      <td>...</td>\n",
              "      <td>...</td>\n",
              "      <td>...</td>\n",
              "      <td>...</td>\n",
              "      <td>...</td>\n",
              "      <td>...</td>\n",
              "      <td>...</td>\n",
              "      <td>...</td>\n",
              "      <td>...</td>\n",
              "    </tr>\n",
              "    <tr>\n",
              "      <th>53253</th>\n",
              "      <td>A1ODOGXEYECQQ8</td>\n",
              "      <td>B00KYA0RC2</td>\n",
              "      <td>Nuknuk</td>\n",
              "      <td>[0, 0]</td>\n",
              "      <td>What I like about this scale is you can power ...</td>\n",
              "      <td>4</td>\n",
              "      <td>Portable and very easy to use</td>\n",
              "      <td>1405555200</td>\n",
              "      <td>07 17, 2014</td>\n",
              "      <td>{'What': 1, 'I': 1, 'like': 1, 'about': 1, 'th...</td>\n",
              "      <td>{'vowel': 225, 'consonant': 544, 'totcount': 769}</td>\n",
              "      <td>{'begB': 15, 'endG': 11}</td>\n",
              "    </tr>\n",
              "    <tr>\n",
              "      <th>53254</th>\n",
              "      <td>A2XX2A4OJCDNLZ</td>\n",
              "      <td>B00KYA0RC2</td>\n",
              "      <td>RatherLiveInKeyWest</td>\n",
              "      <td>[2, 2]</td>\n",
              "      <td>This Accuteck ShipPro digital scale works very...</td>\n",
              "      <td>5</td>\n",
              "      <td>Accuteck ShipPro Digital Postal Scale - Stand-...</td>\n",
              "      <td>1405296000</td>\n",
              "      <td>07 14, 2014</td>\n",
              "      <td>{'This': 1, 'Accuteck': 2, 'ShipPro': 2, 'digi...</td>\n",
              "      <td>{'vowel': 815, 'consonant': 1911, 'totcount': ...</td>\n",
              "      <td>{'begB': 37, 'endG': 30}</td>\n",
              "    </tr>\n",
              "    <tr>\n",
              "      <th>53255</th>\n",
              "      <td>A3LGT6UZL99IW1</td>\n",
              "      <td>B00KYA0RC2</td>\n",
              "      <td>Richard C. Drew \"Anaal Nathra/Uthe vas Bethod...</td>\n",
              "      <td>[1, 1]</td>\n",
              "      <td>I ship a lot of stuff.  I sell small parts, ma...</td>\n",
              "      <td>5</td>\n",
              "      <td>Extremely accurate, foolproof postal/shipping ...</td>\n",
              "      <td>1405468800</td>\n",
              "      <td>07 16, 2014</td>\n",
              "      <td>{'I': 6, 'ship': 1, 'a': 10, 'lot': 1, 'of': 7...</td>\n",
              "      <td>{'vowel': 411, 'consonant': 1096, 'totcount': ...</td>\n",
              "      <td>{'begB': 23, 'endG': 37}</td>\n",
              "    </tr>\n",
              "    <tr>\n",
              "      <th>53256</th>\n",
              "      <td>A1XJOSJN6FHFO0</td>\n",
              "      <td>B00KYA0RC2</td>\n",
              "      <td>Shirley Priscilla  Johnson \"Author/Reviewer -...</td>\n",
              "      <td>[0, 0]</td>\n",
              "      <td>This is a great little scale to have. It can w...</td>\n",
              "      <td>5</td>\n",
              "      <td>Fast, Easy and Accurate</td>\n",
              "      <td>1405814400</td>\n",
              "      <td>07 20, 2014</td>\n",
              "      <td>{'This': 1, 'is': 4, 'a': 5, 'great': 2, 'litt...</td>\n",
              "      <td>{'vowel': 222, 'consonant': 509, 'totcount': 731}</td>\n",
              "      <td>{'begB': 7, 'endG': 12}</td>\n",
              "    </tr>\n",
              "    <tr>\n",
              "      <th>53257</th>\n",
              "      <td>AAEVGE52KL0DJ</td>\n",
              "      <td>B00KYA0RC2</td>\n",
              "      <td>Tim</td>\n",
              "      <td>[3, 4]</td>\n",
              "      <td>When asked to review this scale, I almost decl...</td>\n",
              "      <td>4</td>\n",
              "      <td>Great Value on a Good Postal Scale</td>\n",
              "      <td>1404604800</td>\n",
              "      <td>07 6, 2014</td>\n",
              "      <td>{'When': 1, 'asked': 1, 'to': 9, 'review': 1, ...</td>\n",
              "      <td>{'vowel': 564, 'consonant': 1340, 'totcount': ...</td>\n",
              "      <td>{'begB': 28, 'endG': 40}</td>\n",
              "    </tr>\n",
              "  </tbody>\n",
              "</table>\n",
              "<p>53258 rows × 12 columns</p>\n",
              "</div>"
            ],
            "text/plain": [
              "           reviewerID  ...                    BegEnd\n",
              "0      A32T2H8150OJLU  ...  {'begB': 17, 'endG': 14}\n",
              "1      A3MAFS04ZABRGO  ...  {'begB': 66, 'endG': 74}\n",
              "2      A1F1A0QQP2XVH5  ...    {'begB': 7, 'endG': 9}\n",
              "3       A49R5DBXXQDE5  ...  {'begB': 35, 'endG': 53}\n",
              "4      A2XRMQA6PJ5ZJ8  ...    {'begB': 7, 'endG': 5}\n",
              "...               ...  ...                       ...\n",
              "53253  A1ODOGXEYECQQ8  ...  {'begB': 15, 'endG': 11}\n",
              "53254  A2XX2A4OJCDNLZ  ...  {'begB': 37, 'endG': 30}\n",
              "53255  A3LGT6UZL99IW1  ...  {'begB': 23, 'endG': 37}\n",
              "53256  A1XJOSJN6FHFO0  ...   {'begB': 7, 'endG': 12}\n",
              "53257   AAEVGE52KL0DJ  ...  {'begB': 28, 'endG': 40}\n",
              "\n",
              "[53258 rows x 12 columns]"
            ]
          },
          "metadata": {
            "tags": []
          },
          "execution_count": 154
        }
      ]
    },
    {
      "cell_type": "code",
      "metadata": {
        "id": "0Gu8yFu66H5H",
        "colab_type": "code",
        "colab": {}
      },
      "source": [
        ""
      ],
      "execution_count": 0,
      "outputs": []
    }
  ]
}