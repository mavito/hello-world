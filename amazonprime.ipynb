{
  "nbformat": 4,
  "nbformat_minor": 0,
  "metadata": {
    "colab": {
      "name": "amazonprime.ipynb",
      "provenance": [],
      "include_colab_link": true
    },
    "kernelspec": {
      "name": "python3",
      "display_name": "Python 3"
    }
  },
  "cells": [
    {
      "cell_type": "markdown",
      "metadata": {
        "id": "view-in-github",
        "colab_type": "text"
      },
      "source": [
        "<a href=\"https://colab.research.google.com/github/mavito/hello-world/blob/master/amazonprime.ipynb\" target=\"_parent\"><img src=\"https://colab.research.google.com/assets/colab-badge.svg\" alt=\"Open In Colab\"/></a>"
      ]
    },
    {
      "cell_type": "code",
      "metadata": {
        "id": "INybzj4iZzMd",
        "colab_type": "code",
        "colab": {}
      },
      "source": [
        "import pandas as pd\n",
        "import json\n",
        "from collections import Counter"
      ],
      "execution_count": 0,
      "outputs": []
    },
    {
      "cell_type": "code",
      "metadata": {
        "id": "NoQwZ2ZJSvlA",
        "colab_type": "code",
        "colab": {}
      },
      "source": [
        "url = \"http://snap.stanford.edu/data/amazon/productGraph/categoryFiles/reviews_Office_Products_5.json.gz\""
      ],
      "execution_count": 0,
      "outputs": []
    },
    {
      "cell_type": "code",
      "metadata": {
        "id": "7J4GTCXqS7t9",
        "colab_type": "code",
        "colab": {}
      },
      "source": [
        "r = pd.read_json(url,lines=True)"
      ],
      "execution_count": 0,
      "outputs": []
    },
    {
      "cell_type": "code",
      "metadata": {
        "id": "5kFO64H3bkdE",
        "colab_type": "code",
        "colab": {}
      },
      "source": [
        "def custom_func(text):\n",
        "  return Counter(text.split())"
      ],
      "execution_count": 0,
      "outputs": []
    },
    {
      "cell_type": "code",
      "metadata": {
        "id": "2is97QUnTmxN",
        "colab_type": "code",
        "colab": {}
      },
      "source": [
        "df1 = r.copy()"
      ],
      "execution_count": 0,
      "outputs": []
    },
    {
      "cell_type": "code",
      "metadata": {
        "id": "dJZQQH2XljB0",
        "colab_type": "code",
        "colab": {}
      },
      "source": [
        "df1['reviewCounter'] = df1['reviewText'].apply(lambda x:custom_func(x))"
      ],
      "execution_count": 0,
      "outputs": []
    },
    {
      "cell_type": "code",
      "metadata": {
        "id": "sL5LVVUHO9dp",
        "colab_type": "code",
        "colab": {}
      },
      "source": [
        "df1['reviewCounter'][1]"
      ],
      "execution_count": 0,
      "outputs": []
    }
  ]
}