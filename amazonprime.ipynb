{
  "nbformat": 4,
  "nbformat_minor": 0,
  "metadata": {
    "colab": {
      "name": "amazonprime.ipynb",
      "provenance": [],
      "include_colab_link": true
    },
    "kernelspec": {
      "name": "python3",
      "display_name": "Python 3"
    }
  },
  "cells": [
    {
      "cell_type": "markdown",
      "metadata": {
        "id": "view-in-github",
        "colab_type": "text"
      },
      "source": [
        "<a href=\"https://colab.research.google.com/github/mavito/hello-world/blob/master/amazonprime.ipynb\" target=\"_parent\"><img src=\"https://colab.research.google.com/assets/colab-badge.svg\" alt=\"Open In Colab\"/></a>"
      ]
    },
    {
      "cell_type": "code",
      "metadata": {
        "id": "INybzj4iZzMd",
        "colab_type": "code",
        "colab": {}
      },
      "source": [
        "import pandas as pd\n",
        "import json\n",
        "from collections import Counter\n",
        "import string"
      ],
      "execution_count": 0,
      "outputs": []
    },
    {
      "cell_type": "markdown",
      "metadata": {
        "id": "qPDeZtvkV6c-",
        "colab_type": "text"
      },
      "source": [
        "LINK TO AMAZON REVIEWS FOR OFFICE PRODUCTS"
      ]
    },
    {
      "cell_type": "code",
      "metadata": {
        "id": "NoQwZ2ZJSvlA",
        "colab_type": "code",
        "colab": {}
      },
      "source": [
        "url = \"http://snap.stanford.edu/data/amazon/productGraph/categoryFiles/reviews_Office_Products_5.json.gz\" "
      ],
      "execution_count": 0,
      "outputs": []
    },
    {
      "cell_type": "code",
      "metadata": {
        "id": "7J4GTCXqS7t9",
        "colab_type": "code",
        "colab": {}
      },
      "source": [
        "r = pd.read_json(url,lines=True)"
      ],
      "execution_count": 0,
      "outputs": []
    },
    {
      "cell_type": "code",
      "metadata": {
        "id": "5kFO64H3bkdE",
        "colab_type": "code",
        "colab": {}
      },
      "source": [
        "#function which splits the words in a text paragraph and returns counter of occurrence of each individual word as dictionary\n",
        "def custom_func(text):\n",
        "  return Counter(text.split())"
      ],
      "execution_count": 0,
      "outputs": []
    },
    {
      "cell_type": "code",
      "metadata": {
        "id": "2is97QUnTmxN",
        "colab_type": "code",
        "colab": {}
      },
      "source": [
        "df1 = r.copy()"
      ],
      "execution_count": 0,
      "outputs": []
    },
    {
      "cell_type": "code",
      "metadata": {
        "id": "dJZQQH2XljB0",
        "colab_type": "code",
        "colab": {}
      },
      "source": [
        "df1['reviewCounter'] = df1['reviewText'].apply(lambda x:custom_func(x))"
      ],
      "execution_count": 0,
      "outputs": []
    },
    {
      "cell_type": "code",
      "metadata": {
        "id": "sL5LVVUHO9dp",
        "colab_type": "code",
        "colab": {}
      },
      "source": [
        "df1['reviewCounter'][1]"
      ],
      "execution_count": 0,
      "outputs": []
    },
    {
      "cell_type": "code",
      "metadata": {
        "id": "fEz3dCxRjKuU",
        "colab_type": "code",
        "colab": {}
      },
      "source": [
        "vowel = ['a','e','i','o','u']"
      ],
      "execution_count": 0,
      "outputs": []
    },
    {
      "cell_type": "code",
      "metadata": {
        "id": "AeniXgB2jm_j",
        "colab_type": "code",
        "colab": {}
      },
      "source": [
        "def splitr(m):\n",
        "  return list(m)"
      ],
      "execution_count": 0,
      "outputs": []
    },
    {
      "cell_type": "code",
      "metadata": {
        "id": "h5qHc30AkcHB",
        "colab_type": "code",
        "colab": {}
      },
      "source": [
        "def func(text):\n",
        "  countr = {\"vowel\":0,\"consonant\":0,\"totcount\":0}\n",
        "  for word in text:\n",
        "    wordrs = splitr(word)\n",
        "    for wordr in wordrs:\n",
        "      if wordr in vowel:\n",
        "        countr[\"vowel\"]+=1\n",
        "      else:\n",
        "        countr[\"consonant\"]+=1\n",
        "      countr['totcount']+=1\n",
        "  return countr\n"
      ],
      "execution_count": 0,
      "outputs": []
    },
    {
      "cell_type": "code",
      "metadata": {
        "id": "X-A43E9bkcRp",
        "colab_type": "code",
        "colab": {}
      },
      "source": [
        "df1['SingoCounter'] = df1['reviewText'].apply(lambda x:func(x))"
      ],
      "execution_count": 0,
      "outputs": []
    },
    {
      "cell_type": "code",
      "metadata": {
        "id": "MR1Q2LEumd7N",
        "colab_type": "code",
        "colab": {
          "base_uri": "https://localhost:8080/",
          "height": 34
        },
        "outputId": "892ca7af-2a55-4a54-c419-3b1a7a513669"
      },
      "source": [
        "df1['SingoCounter'][2]"
      ],
      "execution_count": 75,
      "outputs": [
        {
          "output_type": "execute_result",
          "data": {
            "text/plain": [
              "{'consonant': 363, 'totcount': 495, 'vowel': 132}"
            ]
          },
          "metadata": {
            "tags": []
          },
          "execution_count": 75
        }
      ]
    },
    {
      "cell_type": "code",
      "metadata": {
        "id": "sL0z62-Pmjrj",
        "colab_type": "code",
        "colab": {
          "base_uri": "https://localhost:8080/",
          "height": 34
        },
        "outputId": "f40e3aa4-7948-414c-83f1-0192a91837e0"
      },
      "source": [
        "(len(df1['reviewText'][2])) == df1['SingoCounter'][2]['totcount']"
      ],
      "execution_count": 79,
      "outputs": [
        {
          "output_type": "execute_result",
          "data": {
            "text/plain": [
              "True"
            ]
          },
          "metadata": {
            "tags": []
          },
          "execution_count": 79
        }
      ]
    }
  ]
}